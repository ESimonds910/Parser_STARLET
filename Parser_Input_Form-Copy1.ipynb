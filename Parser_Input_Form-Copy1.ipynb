{
 "cells": [
  {
   "cell_type": "code",
   "execution_count": 1,
   "metadata": {},
   "outputs": [],
   "source": [
    "import voila\n",
    "import ipywidgets as ipw\n",
    "from ipywidgets import interact\n",
    "import plotly.express as px\n",
    "from string import ascii_uppercase as upstr\n",
    "import json"
   ]
  },
  {
   "cell_type": "code",
   "execution_count": 2,
   "metadata": {},
   "outputs": [
    {
     "data": {
      "application/vnd.jupyter.widget-view+json": {
       "model_id": "0ad35d37e1194d61a5247a2e81c0e910",
       "version_major": 2,
       "version_minor": 0
      },
      "text/plain": [
       "Image(value=b'\\xff\\xd8\\xff\\xe0\\x00\\x10JFIF\\x00\\x01\\x01\\x00\\x00\\x01\\x00\\x01\\x00\\x00\\xff\\xfe\\x00;CREATOR: gd-jpe…"
      ]
     },
     "metadata": {},
     "output_type": "display_data"
    }
   ],
   "source": [
    "img_path = open('AbSciImg.jfif', 'rb')\n",
    "img = img_path.read()\n",
    "ipw.Image(value=img, format='jfif', height='200px', width='200px')"
   ]
  },
  {
   "cell_type": "markdown",
   "metadata": {},
   "source": [
    "# Parser Input Form"
   ]
  },
  {
   "cell_type": "code",
   "execution_count": null,
   "metadata": {},
   "outputs": [],
   "source": []
  },
  {
   "cell_type": "code",
   "execution_count": 3,
   "metadata": {},
   "outputs": [],
   "source": [
    "# !pip install voila"
   ]
  },
  {
   "cell_type": "code",
   "execution_count": 4,
   "metadata": {},
   "outputs": [],
   "source": [
    "# !jupyter nbextension enable --py widgetsnbextension --sys-prefix\n",
    "# !jupyter serverextension enable voila --sys-prefix"
   ]
  },
  {
   "cell_type": "code",
   "execution_count": 5,
   "metadata": {},
   "outputs": [],
   "source": [
    "# !pip install jslinks"
   ]
  },
  {
   "cell_type": "code",
   "execution_count": 6,
   "metadata": {},
   "outputs": [],
   "source": [
    "STYLE = {'description_width': 'initial'}"
   ]
  },
  {
   "cell_type": "code",
   "execution_count": 7,
   "metadata": {},
   "outputs": [],
   "source": [
    "proj_dict = {}"
   ]
  },
  {
   "cell_type": "code",
   "execution_count": 8,
   "metadata": {},
   "outputs": [],
   "source": [
    "with open('parser_data.json','w') as parser_file:\n",
    "    json.dump(proj_dict, parser_file, indent=4)"
   ]
  },
  {
   "cell_type": "markdown",
   "metadata": {},
   "source": [
    "### Enter Project Name"
   ]
  },
  {
   "cell_type": "code",
   "execution_count": 9,
   "metadata": {},
   "outputs": [
    {
     "data": {
      "application/vnd.jupyter.widget-view+json": {
       "model_id": "b2fcd64680e74eeda3b9a14e042ef627",
       "version_major": 2,
       "version_minor": 0
      },
      "text/plain": [
       "Text(value='')"
      ]
     },
     "metadata": {},
     "output_type": "display_data"
    }
   ],
   "source": [
    "proj_name = ipw.Text()\n",
    "proj_name"
   ]
  },
  {
   "cell_type": "markdown",
   "metadata": {},
   "source": [
    "### Enter plate ids, e.g. 'P1-1, P1-2, P2...' using '-' for any replicate, or 'P1, P2' if not replicates"
   ]
  },
  {
   "cell_type": "code",
   "execution_count": 10,
   "metadata": {},
   "outputs": [
    {
     "data": {
      "application/vnd.jupyter.widget-view+json": {
       "model_id": "918c97a64091453f874caad3f85a0e22",
       "version_major": 2,
       "version_minor": 0
      },
      "text/plain": [
       "Text(value='')"
      ]
     },
     "metadata": {},
     "output_type": "display_data"
    }
   ],
   "source": [
    "plates = ipw.Text()\n",
    "plates"
   ]
  },
  {
   "cell_type": "markdown",
   "metadata": {},
   "source": [
    "### Choose if run is four or eight point run."
   ]
  },
  {
   "cell_type": "code",
   "execution_count": 11,
   "metadata": {},
   "outputs": [
    {
     "data": {
      "application/vnd.jupyter.widget-view+json": {
       "model_id": "e4dffd795d674533a170c4818f745632",
       "version_major": 2,
       "version_minor": 0
      },
      "text/plain": [
       "Dropdown(options=(('Four', 4), ('Eight', 8)), value=4)"
      ]
     },
     "metadata": {},
     "output_type": "display_data"
    }
   ],
   "source": [
    "point_choice = ipw.Dropdown(options=[('Four', 4), ('Eight', 8)])\n",
    "point_choice"
   ]
  },
  {
   "cell_type": "markdown",
   "metadata": {},
   "source": [
    "### Enter the dilution volumes for this project"
   ]
  },
  {
   "cell_type": "code",
   "execution_count": 12,
   "metadata": {},
   "outputs": [
    {
     "data": {
      "application/vnd.jupyter.widget-view+json": {
       "model_id": "59befa3a5ae34659a846c3cd95ccdb6c",
       "version_major": 2,
       "version_minor": 0
      },
      "text/plain": [
       "Text(value='')"
      ]
     },
     "metadata": {},
     "output_type": "display_data"
    }
   ],
   "source": [
    "d_vols = ipw.Text()\n",
    "d_vols"
   ]
  },
  {
   "cell_type": "markdown",
   "metadata": {},
   "source": [
    "### Click checkbox to include OD File with project"
   ]
  },
  {
   "cell_type": "code",
   "execution_count": 13,
   "metadata": {},
   "outputs": [
    {
     "data": {
      "application/vnd.jupyter.widget-view+json": {
       "model_id": "29ae0266409940d2848118cd36c578b9",
       "version_major": 2,
       "version_minor": 0
      },
      "text/plain": [
       "Checkbox(value=False, indent=False)"
      ]
     },
     "metadata": {},
     "output_type": "display_data"
    }
   ],
   "source": [
    "x = ipw.Checkbox(indent=False)\n",
    "x"
   ]
  },
  {
   "cell_type": "markdown",
   "metadata": {},
   "source": [
    "### If you added Standard Curves, fill in information below\n",
    "##### Note that if you are adding multiple projects, you need to 'Add Standard' for each project! Standard data will not carry over!"
   ]
  },
  {
   "cell_type": "code",
   "execution_count": 14,
   "metadata": {},
   "outputs": [],
   "source": [
    "std_dict_all = {}"
   ]
  },
  {
   "cell_type": "markdown",
   "metadata": {},
   "source": [
    "#### Select standard location, e.g., 'Column' or 'Row'"
   ]
  },
  {
   "cell_type": "code",
   "execution_count": 15,
   "metadata": {},
   "outputs": [
    {
     "data": {
      "application/vnd.jupyter.widget-view+json": {
       "model_id": "b0847efb38b64922bab94b5f34941a3a",
       "version_major": 2,
       "version_minor": 0
      },
      "text/plain": [
       "Dropdown(options=('Column', 'Row'), value='Column')"
      ]
     },
     "metadata": {},
     "output_type": "display_data"
    }
   ],
   "source": [
    "loc = ipw.Dropdown(options=[\"Column\", \"Row\"])\n",
    "loc"
   ]
  },
  {
   "cell_type": "markdown",
   "metadata": {},
   "source": [
    "#### Choose the starting well id, e.g. A11, or G01"
   ]
  },
  {
   "cell_type": "code",
   "execution_count": 16,
   "metadata": {},
   "outputs": [
    {
     "data": {
      "application/vnd.jupyter.widget-view+json": {
       "model_id": "31103d8f0294455d9b2f9defa0c032eb",
       "version_major": 2,
       "version_minor": 0
      },
      "text/plain": [
       "Text(value='')"
      ]
     },
     "metadata": {},
     "output_type": "display_data"
    }
   ],
   "source": [
    "well_loc = ipw.Text()\n",
    "well_loc"
   ]
  },
  {
   "cell_type": "markdown",
   "metadata": {},
   "source": [
    "#### Enter the standard concentrations. Make sure your first concentration aligns with starting well id indicated!"
   ]
  },
  {
   "cell_type": "code",
   "execution_count": 17,
   "metadata": {},
   "outputs": [
    {
     "data": {
      "application/vnd.jupyter.widget-view+json": {
       "model_id": "8e0611a46d264408b24799712369ee4c",
       "version_major": 2,
       "version_minor": 0
      },
      "text/plain": [
       "Text(value='')"
      ]
     },
     "metadata": {},
     "output_type": "display_data"
    }
   ],
   "source": [
    "std_conc = ipw.Text()\n",
    "std_conc"
   ]
  },
  {
   "cell_type": "code",
   "execution_count": 18,
   "metadata": {},
   "outputs": [
    {
     "data": {
      "application/vnd.jupyter.widget-view+json": {
       "model_id": "edeea28b79f04dc49d87618d7f80628f",
       "version_major": 2,
       "version_minor": 0
      },
      "text/plain": [
       "Output()"
      ]
     },
     "metadata": {},
     "output_type": "display_data"
    }
   ],
   "source": [
    "stc_out = ipw.Output()\n",
    "stc_out"
   ]
  },
  {
   "cell_type": "code",
   "execution_count": 19,
   "metadata": {},
   "outputs": [
    {
     "data": {
      "application/vnd.jupyter.widget-view+json": {
       "model_id": "ada9ab2711d04466b143d65559ec5e83",
       "version_major": 2,
       "version_minor": 0
      },
      "text/plain": [
       "Button(button_style='info', description='Add Standard', style=ButtonStyle())"
      ]
     },
     "metadata": {},
     "output_type": "display_data"
    }
   ],
   "source": [
    "add_stc_button = ipw.Button(description='Add Standard', button_style='info')\n",
    "\n",
    "@stc_out.capture()\n",
    "def add_standard(event):\n",
    "    global std_dict_all\n",
    "    stc_out.clear_output()\n",
    "    std_conc_list = [float(x) for x in std_conc.value.split(',')]\n",
    "    std_conc_list_len = len(std_conc_list)\n",
    "    if loc.value == 'Column':\n",
    "        col_letter = well_loc.value[:1]\n",
    "        letter_idx = upstr.index(col_letter)\n",
    "        col_num = well_loc.value[1:]\n",
    "        std_ids = [f\"{upstr[letter]}{str(col_num).zfill(2)}\" for letter in range(letter_idx, std_conc_list_len)]\n",
    "        std_dict = (dict(zip(std_ids, std_conc_list)))\n",
    "\n",
    "    elif loc.value == 'Row':\n",
    "        row_letter = well_loc.value[:1]\n",
    "        row_num = int(well_loc.value[1:])\n",
    "        std_ids = [f\"{row_letter}{str(num).zfill(2)}\" for num in range(row_num, row_num + std_conc_list_len)]\n",
    "        std_dict = dict(zip(std_ids, std_conc_list))\n",
    "    try:\n",
    "        std_dict_all.update(std_dict)\n",
    "    except AttributeError:\n",
    "        std_dict_all = {}\n",
    "        std_dict_all.update(std_dict)\n",
    "    else:\n",
    "        for key, value in std_dict_all.items():\n",
    "            print(f'Well ID: {key}, Concentration: {value}')\n",
    "        print(\"\\nTo add replicate, change well id, or 'column/row' to indicate new standard curve position.\\n\")\n",
    "        return std_dict_all\n",
    "\n",
    "add_stc_button.on_click(add_standard)\n",
    "add_stc_button"
   ]
  },
  {
   "cell_type": "markdown",
   "metadata": {},
   "source": [
    "### Add project when finished and check for accuracy!"
   ]
  },
  {
   "cell_type": "code",
   "execution_count": 20,
   "metadata": {},
   "outputs": [
    {
     "data": {
      "application/vnd.jupyter.widget-view+json": {
       "model_id": "bb89dcfe019d496ab8ada87e080e68c8",
       "version_major": 2,
       "version_minor": 0
      },
      "text/plain": [
       "VBox(children=(Button(button_style='info', description='Add Project', style=ButtonStyle()), Output()))"
      ]
     },
     "metadata": {},
     "output_type": "display_data"
    }
   ],
   "source": [
    "button_update = ipw.Button(\n",
    "    description='Add Project',\n",
    "    button_style='info'\n",
    ")\n",
    "output = ipw.Output()\n",
    "def on_button_click(event):\n",
    "    global std_dict_all\n",
    "    output.clear_output()\n",
    "    \n",
    "    with open('parser_data.json', 'r') as parser_file:\n",
    "        proj_dict_all = json.load(parser_file)\n",
    "    \n",
    "    proj = proj_name.value\n",
    "    point = point_choice.value\n",
    "    plate_ids = list(map(str.strip, plates.value.split(',')))\n",
    "    d_volumes = [float(x) for x in d_vols.value.split(',')]\n",
    "\n",
    "    proj_dict = {proj:{\n",
    "        'plates': plate_ids,\n",
    "        'points': point,\n",
    "        'volumes': d_volumes,\n",
    "        'od_file': x.value,\n",
    "        'std_conc': std_dict_all\n",
    "    }\n",
    "                }\n",
    "    proj_dict_all.update(proj_dict)\n",
    "    \n",
    "    with open('parser_data.json', 'w') as parser_file:\n",
    "        json.dump(proj_dict_all, parser_file, indent=4)\n",
    "        \n",
    "    std_dict_all = {}\n",
    "    \n",
    "    with output:\n",
    "        print('\\nProject Updated')\n",
    "        for proj, inner in proj_dict_all.items():\n",
    "            print(f'\\nProject name entered: {proj}\\n')\n",
    "            print(f\"Plate Ids: {', '.join(inner['plates'])}\")\n",
    "            print(f\"Point Scheme: {inner['points']}\")\n",
    "            print(f\"Dilution Volumes: {d_vols.value}\")\n",
    "            print(f\"Add OD data: {inner['od_file']}\")\n",
    "            for key, value in inner['std_conc'].items():\n",
    "                print(f\"Well ID: {key}, Standard Concentration: {value}\")\n",
    "#             for key, value in inner.items():\n",
    "#                 print(f'{key} entered: {value}\\n')\n",
    "    return std_dict_all\n",
    "button_update.on_click(on_button_click)\n",
    "vbox_result = ipw.VBox([button_update, output])\n",
    "vbox_result"
   ]
  },
  {
   "cell_type": "code",
   "execution_count": null,
   "metadata": {},
   "outputs": [],
   "source": []
  },
  {
   "cell_type": "code",
   "execution_count": null,
   "metadata": {},
   "outputs": [],
   "source": []
  }
 ],
 "metadata": {
  "kernelspec": {
   "display_name": "Python 3",
   "language": "python",
   "name": "python3"
  },
  "language_info": {
   "codemirror_mode": {
    "name": "ipython",
    "version": 3
   },
   "file_extension": ".py",
   "mimetype": "text/x-python",
   "name": "python",
   "nbconvert_exporter": "python",
   "pygments_lexer": "ipython3",
   "version": "3.8.3"
  }
 },
 "nbformat": 4,
 "nbformat_minor": 4
}
